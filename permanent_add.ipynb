{
 "cells": [
  {
   "cell_type": "markdown",
   "id": "30782fe6",
   "metadata": {},
   "source": [
    "## Adding Permenant Search Path in Anaconda Environment"
   ]
  },
  {
   "cell_type": "markdown",
   "id": "79fc1b10",
   "metadata": {},
   "source": [
    "!conda develop HERE_TYPE_THE_LIBRARY_PATH"
   ]
  },
  {
   "cell_type": "code",
   "execution_count": 4,
   "id": "432bce4d",
   "metadata": {
    "scrolled": true
   },
   "outputs": [
    {
     "name": "stdout",
     "output_type": "stream",
     "text": [
      "path exists, skipping C:\\Users\\U6049975\\OneDrive\n",
      "completed operation for: C:\\Users\\U6049975\\OneDrive\n",
      "path exists, skipping C:\\Users\\U6049975\\OneDrive - Clarivate Analytics\\Desktop\\Dsci_cour\\-\n",
      "completed operation for: C:\\Users\\U6049975\\OneDrive - Clarivate Analytics\\Desktop\\Dsci_cour\\-\n",
      "path exists, skipping C:\\Users\\U6049975\\OneDrive - Clarivate Analytics\\Desktop\\Dsci_cour\\Clarivate\n",
      "completed operation for: C:\\Users\\U6049975\\OneDrive - Clarivate Analytics\\Desktop\\Dsci_cour\\Clarivate\n",
      "added C:\\Users\\U6049975\\OneDrive - Clarivate Analytics\\Desktop\\Dsci_cour\\Analytics\\Desktop\\Dsci_cour\\grain_module\n",
      "completed operation for: C:\\Users\\U6049975\\OneDrive - Clarivate Analytics\\Desktop\\Dsci_cour\\Analytics\\Desktop\\Dsci_cour\\grain_module\n"
     ]
    }
   ],
   "source": [
    "!conda develop C:\\Users\\U6049975\\OneDrive - Clarivate Analytics\\Desktop\\Dsci_cour\\grain_module"
   ]
  },
  {
   "cell_type": "code",
   "execution_count": 5,
   "id": "4a4e2db3",
   "metadata": {},
   "outputs": [
    {
     "data": {
      "text/plain": [
       "['C:\\\\Users\\\\U6049975\\\\OneDrive - Clarivate Analytics\\\\Desktop\\\\Dsci_cour',\n",
       " 'C:\\\\Users\\\\U6049975\\\\Anaconda3\\\\python39.zip',\n",
       " 'C:\\\\Users\\\\U6049975\\\\Anaconda3\\\\DLLs',\n",
       " 'C:\\\\Users\\\\U6049975\\\\Anaconda3\\\\lib',\n",
       " 'C:\\\\Users\\\\U6049975\\\\Anaconda3',\n",
       " '',\n",
       " 'C:\\\\Users\\\\U6049975\\\\Anaconda3\\\\lib\\\\site-packages',\n",
       " 'C:\\\\Users\\\\U6049975\\\\OneDrive',\n",
       " 'C:\\\\Users\\\\U6049975\\\\Anaconda3\\\\lib\\\\site-packages\\\\win32',\n",
       " 'C:\\\\Users\\\\U6049975\\\\Anaconda3\\\\lib\\\\site-packages\\\\win32\\\\lib',\n",
       " 'C:\\\\Users\\\\U6049975\\\\Anaconda3\\\\lib\\\\site-packages\\\\Pythonwin']"
      ]
     },
     "execution_count": 5,
     "metadata": {},
     "output_type": "execute_result"
    }
   ],
   "source": [
    "import sys\n",
    "sys.path"
   ]
  }
 ],
 "metadata": {
  "kernelspec": {
   "display_name": "Python 3 (ipykernel)",
   "language": "python",
   "name": "python3"
  },
  "language_info": {
   "codemirror_mode": {
    "name": "ipython",
    "version": 3
   },
   "file_extension": ".py",
   "mimetype": "text/x-python",
   "name": "python",
   "nbconvert_exporter": "python",
   "pygments_lexer": "ipython3",
   "version": "3.9.12"
  }
 },
 "nbformat": 4,
 "nbformat_minor": 5
}
