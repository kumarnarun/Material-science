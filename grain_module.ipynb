{
 "cells": [
  {
   "cell_type": "markdown",
   "id": "54beb6df",
   "metadata": {},
   "source": [
    "### GRAIN SIZE,YIELD STRENGTH CALCULATOR"
   ]
  },
  {
   "cell_type": "code",
   "execution_count": 25,
   "id": "e1fdd876",
   "metadata": {},
   "outputs": [],
   "source": [
    "import math"
   ]
  },
  {
   "cell_type": "code",
   "execution_count": 26,
   "id": "2775211e",
   "metadata": {},
   "outputs": [],
   "source": [
    "## Calculating grains per square mm = N"
   ]
  },
  {
   "cell_type": "code",
   "execution_count": 27,
   "id": "9e4aa167",
   "metadata": {},
   "outputs": [],
   "source": [
    "def calculate_graincount(n, M):\n",
    "    \"\"\"\n",
    "    n is ASTM grain size number\n",
    "    M is Magnification\n",
    "    The grain_countinch value in per square inches.\n",
    "    To convert it into per square mm we have to divide\n",
    "    by 25.4*25.4 since 1 inch = 25.4 mm\n",
    "    \n",
    "    \"\"\"\n",
    "    \n",
    "    grain_countinch = (2**(n-1))*(100/M)**2\n",
    "    \n",
    "    grain_count = grain_countinch/(25.4)**2\n",
    "    \n",
    "    return(grain_count)"
   ]
  },
  {
   "cell_type": "code",
   "execution_count": 28,
   "id": "80a5b346",
   "metadata": {},
   "outputs": [
    {
     "data": {
      "text/plain": [
       "496.000992001984"
      ]
     },
     "execution_count": 28,
     "metadata": {},
     "output_type": "execute_result"
    }
   ],
   "source": [
    "calculate_graincount(6,1)"
   ]
  },
  {
   "cell_type": "code",
   "execution_count": 29,
   "id": "fd0c0e11",
   "metadata": {},
   "outputs": [],
   "source": [
    "## Calculating average grain diameter = D"
   ]
  },
  {
   "cell_type": "code",
   "execution_count": 30,
   "id": "ee84aa8e",
   "metadata": {},
   "outputs": [],
   "source": [
    "def avg_grain_dia(N):\n",
    "    \"\"\" \n",
    "    Here N is no of grains per square mm\n",
    "    D is average grain diameter(mm)\n",
    "    \n",
    "    \"\"\"\n",
    "  \n",
    "    D = 1/math.sqrt(N)\n",
    "    \n",
    "    return(D)\n"
   ]
  },
  {
   "cell_type": "code",
   "execution_count": 31,
   "id": "570c59f0",
   "metadata": {},
   "outputs": [
    {
     "data": {
      "text/plain": [
       "0.044901280695962165"
      ]
     },
     "execution_count": 31,
     "metadata": {},
     "output_type": "execute_result"
    }
   ],
   "source": [
    "avg_grain_dia(496.00099)"
   ]
  },
  {
   "cell_type": "code",
   "execution_count": 32,
   "id": "9dbfb91f",
   "metadata": {},
   "outputs": [],
   "source": [
    "def locking_parameter(x1,x2,y1,y2):\n",
    "     \n",
    "    \"\"\"\n",
    "    locking parametr is a slope of the straight line that \n",
    "    is obtained when σy is plotted against D-1/2\n",
    "    x1,x2 are grain daimeter taken from x-axis\n",
    "    y1,y2 are tensile strength taken from y-axis\n",
    "    \n",
    "    \"\"\"\n",
    "     \n",
    "    \n",
    "    slope_k = (y2-y1)/(x2-x1)\n",
    "    \n",
    "    return(slope_k)"
   ]
  },
  {
   "cell_type": "code",
   "execution_count": 33,
   "id": "59abee4e",
   "metadata": {},
   "outputs": [
    {
     "data": {
      "text/plain": [
       "12.5"
      ]
     },
     "execution_count": 33,
     "metadata": {},
     "output_type": "execute_result"
    }
   ],
   "source": [
    "locking_parameter(4,12,75,175)"
   ]
  },
  {
   "cell_type": "code",
   "execution_count": 34,
   "id": "4fa2a54f",
   "metadata": {},
   "outputs": [],
   "source": [
    "def yield_strength(yield_infinity,k,D):\n",
    "    \"\"\" \n",
    "          Yield strength can be calculated from hall-petch relation \n",
    "          σy = yield_infinity + k/√D where\n",
    "          \n",
    "          yield_infinity(σ∞) - Yield stress for infinitely \n",
    "          large grain size(i.e D-1/2 = 0) in MPa\n",
    "          \n",
    "          k  - Locking parameter\n",
    "          D  - Grain diameter in metre\n",
    "    \"\"\"\n",
    "    \n",
    "    yield_stress = yield_infinity + (k/math.sqrt(D))\n",
    "    \n",
    "    return(yield_stress)"
   ]
  },
  {
   "cell_type": "code",
   "execution_count": 35,
   "id": "2aa9cff3",
   "metadata": {},
   "outputs": [
    {
     "data": {
      "text/plain": [
       "254.46597681448256"
      ]
     },
     "execution_count": 35,
     "metadata": {},
     "output_type": "execute_result"
    }
   ],
   "source": [
    "yield_strength(150,0.7,0.0449/1000)"
   ]
  }
 ],
 "metadata": {
  "kernelspec": {
   "display_name": "Python 3 (ipykernel)",
   "language": "python",
   "name": "python3"
  },
  "language_info": {
   "codemirror_mode": {
    "name": "ipython",
    "version": 3
   },
   "file_extension": ".py",
   "mimetype": "text/x-python",
   "name": "python",
   "nbconvert_exporter": "python",
   "pygments_lexer": "ipython3",
   "version": "3.9.12"
  }
 },
 "nbformat": 4,
 "nbformat_minor": 5
}
