{
 "cells": [
  {
   "cell_type": "code",
   "execution_count": 11,
   "id": "b43e10ad",
   "metadata": {},
   "outputs": [],
   "source": [
    "import grain_module"
   ]
  },
  {
   "cell_type": "code",
   "execution_count": 12,
   "id": "6d498b65",
   "metadata": {},
   "outputs": [
    {
     "data": {
      "text/plain": [
       "248.000496000992"
      ]
     },
     "execution_count": 12,
     "metadata": {},
     "output_type": "execute_result"
    }
   ],
   "source": [
    "grain_module.calculate_graincount(5,1)"
   ]
  },
  {
   "cell_type": "code",
   "execution_count": 13,
   "id": "86a774ce",
   "metadata": {},
   "outputs": [
    {
     "data": {
      "text/plain": [
       "0.06350006350009525"
      ]
     },
     "execution_count": 13,
     "metadata": {},
     "output_type": "execute_result"
    }
   ],
   "source": [
    "grain_module.avg_grain_dia(248)"
   ]
  },
  {
   "cell_type": "code",
   "execution_count": 14,
   "id": "b7ce1957",
   "metadata": {},
   "outputs": [
    {
     "data": {
      "text/plain": [
       "12.5"
      ]
     },
     "execution_count": 14,
     "metadata": {},
     "output_type": "execute_result"
    }
   ],
   "source": [
    "grain_module.locking_parameter(4,12,75,175)"
   ]
  },
  {
   "cell_type": "code",
   "execution_count": 15,
   "id": "15af6e0b",
   "metadata": {},
   "outputs": [
    {
     "data": {
      "text/plain": [
       "337.84381271934217"
      ]
     },
     "execution_count": 15,
     "metadata": {},
     "output_type": "execute_result"
    }
   ],
   "source": [
    "grain_module.yield_strength(250,0.7,0.0635/1000)"
   ]
  }
 ],
 "metadata": {
  "kernelspec": {
   "display_name": "Python 3 (ipykernel)",
   "language": "python",
   "name": "python3"
  },
  "language_info": {
   "codemirror_mode": {
    "name": "ipython",
    "version": 3
   },
   "file_extension": ".py",
   "mimetype": "text/x-python",
   "name": "python",
   "nbconvert_exporter": "python",
   "pygments_lexer": "ipython3",
   "version": "3.9.12"
  }
 },
 "nbformat": 4,
 "nbformat_minor": 5
}
